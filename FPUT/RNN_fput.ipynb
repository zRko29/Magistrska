{
 "cells": [
  {
   "cell_type": "code",
   "execution_count": null,
   "metadata": {},
   "outputs": [],
   "source": [
    "from import_modules import *\n",
    "\n",
    "with open('config.yaml', 'r') as file:\n",
    "    cfg = yaml.safe_load(file)"
   ]
  },
  {
   "cell_type": "code",
   "execution_count": null,
   "metadata": {},
   "outputs": [],
   "source": [
    "folder_path = r\"data/\"\n",
    "\n",
    "sim = SIM(cfg[\"sim\"][\"N\"], cfg[\"sim\"][\"timesteps\"], cfg[\"sim\"][\"dt\"], cfg[\"sim\"][\"alpha\"], cfg[\"sim\"][\"beta\"])\n",
    "\n",
    "run = \"no\"\n",
    "\n",
    "if run == \"yes\":\n",
    "    print(\"No saved data, running simulation.\")\n",
    "    \n",
    "    qs, ps = sim.integrate()\n",
    "    # np.save(\"data_qs_2.npy\", qs)\n",
    "    # np.save(\"data_ps_2.npy\", ps)\n",
    "\n",
    "else:\n",
    "    print(\"Found some saved data, skipping simulation.\")\n",
    "    \n",
    "    qs = np.load(folder_path+r\"data_qs_1.npy\")\n",
    "    ps = np.load(folder_path+r\"data_ps_1.npy\")"
   ]
  },
  {
   "cell_type": "code",
   "execution_count": null,
   "metadata": {},
   "outputs": [],
   "source": [
    "ml = ML(window_size=cfg[\"model\"][\"window_size\"], step_size=cfg[\"model\"][\"step_size\"], train_size=cfg[\"model\"][\"train_size\"], val_size=cfg[\"model\"][\"val_size\"], test_size=cfg[\"model\"][\"test_size\"])\n",
    "\n",
    "X, y = ml.make_sequences(qs)\n",
    "\n",
    "X_train, X_test, X_val, y_train, y_test, y_val = ml.make_split(X, y)\n",
    "\n",
    "X_train = torch.Tensor(np.array(X_train))\n",
    "X_test = torch.Tensor(np.array(X_test))\n",
    "X_val = torch.Tensor(np.array(X_val))\n",
    "y_train = torch.Tensor(np.array(y_train))\n",
    "y_test = torch.Tensor(np.array(y_test))\n",
    "y_val = torch.Tensor(np.array(y_val))"
   ]
  },
  {
   "cell_type": "code",
   "execution_count": null,
   "metadata": {},
   "outputs": [],
   "source": [
    "print(len(X_train)//cfg[\"train\"][\"batch_size\"])"
   ]
  },
  {
   "cell_type": "code",
   "execution_count": null,
   "metadata": {},
   "outputs": [],
   "source": [
    "# Create model\n",
    "model = Model(cfg[\"sim\"][\"N\"]-2, cfg[\"model\"][\"hidden_units\"], cfg[\"sim\"][\"N\"]-2, cfg[\"model\"][\"dropout\"], cfg[\"model\"][\"num_layers\"])"
   ]
  },
  {
   "cell_type": "code",
   "execution_count": null,
   "metadata": {},
   "outputs": [],
   "source": [
    "pytorch_total_params = sum(p.numel() for p in model.parameters())\n",
    "print(\"Total number of parameters =\", pytorch_total_params)"
   ]
  },
  {
   "cell_type": "code",
   "execution_count": null,
   "metadata": {},
   "outputs": [],
   "source": [
    "# Create PyTorch datasets\n",
    "train_dataset = TensorDataset(X_train, y_train)\n",
    "val_dataset = TensorDataset(X_val, y_val)\n",
    "\n",
    "# Create data loaders\n",
    "train_loader = DataLoader(train_dataset, batch_size=cfg[\"train\"][\"batch_size\"], shuffle=False)\n",
    "val_loader = DataLoader(val_dataset, batch_size=cfg[\"train\"][\"batch_size\"], shuffle=False)"
   ]
  },
  {
   "cell_type": "code",
   "execution_count": null,
   "metadata": {},
   "outputs": [],
   "source": [
    "# Define the loss function and optimizer\n",
    "criterion = torch.nn.MSELoss()\n",
    "optimizer = optim.Adam(model.parameters(), lr=cfg[\"train\"][\"learn_rate\"])\n",
    "\n",
    "# Move the model to GPU if available\n",
    "device = torch.device(\"cuda\" if torch.cuda.is_available() else \"cpu\")\n",
    "model.to(device)"
   ]
  },
  {
   "cell_type": "code",
   "execution_count": null,
   "metadata": {},
   "outputs": [],
   "source": [
    "train_loss, val_loss, model = ml.gradient_descent(model, cfg[\"train\"][\"epochs\"], train_loader, optimizer, device, val_loader, train_dataset, val_dataset, criterion, verbose=1)"
   ]
  },
  {
   "cell_type": "code",
   "execution_count": null,
   "metadata": {},
   "outputs": [],
   "source": [
    "plt.plot(train_loss, color='tab:blue')\n",
    "plt.plot(val_loss, color='tab:orange')\n",
    "plt.grid(alpha=0.1)"
   ]
  },
  {
   "cell_type": "code",
   "execution_count": null,
   "metadata": {},
   "outputs": [],
   "source": [
    "# Perform test predictions\n",
    "test_pred = ml.predictions(model, device, X_test)\n",
    "\n",
    "y_test = np.array(y_test)"
   ]
  },
  {
   "cell_type": "code",
   "execution_count": null,
   "metadata": {},
   "outputs": [],
   "source": [
    "limit = 500\n",
    "\n",
    "for particles in range(N-2):\n",
    "    plt.plot(ml.postprocess(y_test)[:limit, particles], color=\"tab:blue\")\n",
    "    plt.plot(ml.postprocess(test_pred)[:limit, particles], color=\"tab:orange\")\n",
    "\n",
    "    # Set labels and title\n",
    "    plt.xlabel('X')\n",
    "    plt.ylabel('Y')\n",
    "    # plt.ylim(-1.2, 1.2)\n",
    "\n",
    "    # Show the plot\n",
    "    plt.show()"
   ]
  }
 ],
 "metadata": {
  "kernelspec": {
   "display_name": "Python 3",
   "language": "python",
   "name": "python3"
  },
  "language_info": {
   "codemirror_mode": {
    "name": "ipython",
    "version": 3
   },
   "file_extension": ".py",
   "mimetype": "text/x-python",
   "name": "python",
   "nbconvert_exporter": "python",
   "pygments_lexer": "ipython3",
   "version": "3.11.4"
  },
  "orig_nbformat": 4
 },
 "nbformat": 4,
 "nbformat_minor": 2
}
