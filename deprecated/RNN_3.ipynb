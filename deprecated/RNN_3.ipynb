{
  "cells": [
    {
      "cell_type": "code",
      "execution_count": null,
      "metadata": {
        "notebookRunGroups": {
          "groupValue": "1"
        },
        "tags": []
      },
      "outputs": [],
      "source": [
        "import numpy as np\n",
        "import simulation\n",
        "\n",
        "# Simulation parameters\n",
        "N = 5  # Number of particles\n",
        "timesteps = 20000  # Number of simulation time steps\n",
        "dt = 1e-2  # Timestep\n",
        "alpha = 0.1  # cubic coupling\n",
        "beta = 0.1  # quartic coupling\n",
        "\n",
        "qs, ps = simulation.integration(N, timesteps, dt, alpha, beta)\n",
        "\n",
        "# Import simulation\n",
        "# qs = np.load(\"D:\\School\\Magistrska\\data\\\\\" + \"_\" + str(N) + \"_\" + str(timesteps) + \"_\" + str(dt) + \"_\" + str(alpha) + \"_\" + str(beta) + \".npy\")"
      ]
    },
    {
      "cell_type": "code",
      "execution_count": null,
      "metadata": {
        "notebookRunGroups": {
          "groupValue": "1"
        }
      },
      "outputs": [],
      "source": [
        "qs_mean = np.mean(qs)\n",
        "qs_std = np.std(qs)\n",
        "\n",
        "def preprocess(X):\n",
        "  X = (X - qs_mean) / qs_std\n",
        "  return X\n",
        "\n",
        "def postprocess(X):\n",
        "  X = X * qs_std + qs_mean\n",
        "  return X\n",
        "\n",
        "qs_mean, qs_std"
      ]
    },
    {
      "cell_type": "code",
      "execution_count": null,
      "metadata": {},
      "outputs": [],
      "source": [
        "np.arange(timesteps), np.sin(np.arange(timesteps))"
      ]
    },
    {
      "cell_type": "code",
      "execution_count": null,
      "metadata": {
        "notebookRunGroups": {
          "groupValue": "1"
        }
      },
      "outputs": [],
      "source": [
        "preprocess(qs)"
      ]
    },
    {
      "cell_type": "code",
      "execution_count": null,
      "metadata": {
        "id": "bY2yEu2QTBXP",
        "notebookRunGroups": {
          "groupValue": "1"
        }
      },
      "outputs": [],
      "source": [
        "def qs_to_X_y(data, window_size=5):\n",
        "  X = []\n",
        "  y = []\n",
        "  \n",
        "  for i in range(len(data)-window_size):\n",
        "    X.append(data[i: i + window_size])\n",
        "    y.append(data[i + window_size])\n",
        "    \n",
        "  return np.array(X), np.array(y)"
      ]
    },
    {
      "cell_type": "code",
      "execution_count": null,
      "metadata": {
        "colab": {
          "base_uri": "https://localhost:8080/"
        },
        "id": "qhGUH0NoV9Zq",
        "notebookRunGroups": {
          "groupValue": "1"
        },
        "outputId": "3775d432-2dbe-4046-a355-b8fa9dcd9ca1"
      },
      "outputs": [],
      "source": [
        "window_size = 1000\n",
        "X, y = qs_to_X_y(qs, window_size)\n",
        "X.shape, y.shape"
      ]
    },
    {
      "cell_type": "code",
      "execution_count": null,
      "metadata": {
        "colab": {
          "base_uri": "https://localhost:8080/"
        },
        "id": "Vsy2-BjnWMhB",
        "notebookRunGroups": {
          "groupValue": "1"
        },
        "outputId": "f20d3567-88c0-4d28-8fbb-38b7193f4ab4"
      },
      "outputs": [],
      "source": [
        "train_size = 0.7\n",
        "val_size = 0.2\n",
        "test_size = 0.1\n",
        "\n",
        "tr=int(timesteps*train_size)\n",
        "va=int(timesteps*val_size)\n",
        "te=int(timesteps*test_size)\n",
        "\n",
        "X_train, y_train = X[:tr], y[:tr]\n",
        "X_val, y_val = X[-va:], y[-va:]\n",
        "X_test, y_test = X[tr: tr +  te], y[tr: tr + te]"
      ]
    },
    {
      "attachments": {},
      "cell_type": "markdown",
      "metadata": {},
      "source": [
        "# LSTM"
      ]
    },
    {
      "cell_type": "code",
      "execution_count": null,
      "metadata": {
        "colab": {
          "base_uri": "https://localhost:8080/"
        },
        "id": "4jZz4ZjpW217",
        "notebookRunGroups": {
          "groupValue": "1"
        },
        "outputId": "6bf1a2da-db28-44c9-ea3e-89612832e203",
        "tags": [
          "parameters"
        ]
      },
      "outputs": [],
      "source": [
        "from tensorflow.keras.models import Sequential\n",
        "from tensorflow.keras.layers import *\n",
        "from tensorflow.keras.callbacks import ModelCheckpoint\n",
        "from tensorflow.keras.losses import MeanSquaredError\n",
        "from tensorflow.keras.metrics import RootMeanSquaredError\n",
        "from tensorflow.keras.optimizers import Adam\n",
        "import tensorflow as tf\n",
        "tf.keras.backend.set_floatx('float64')\n",
        "\n",
        "model_lstm = Sequential()\n",
        "model_lstm.add(InputLayer((window_size, N)))\n",
        "# model_lstm.add(LSTM(64, return_sequences=True, activation= \"tanh\"))\n",
        "model_lstm.add(LSTM(128, activation=\"tanh\"))\n",
        "# model_lstm.add(Dense(8, 'relu'))\n",
        "model_lstm.add(Dropout(0.2))\n",
        "model_lstm.add(Dense(N, 'linear'))\n",
        "\n",
        "model_lstm.summary()"
      ]
    },
    {
      "cell_type": "code",
      "execution_count": null,
      "metadata": {
        "id": "5jMK7auDXwEr",
        "notebookRunGroups": {
          "groupValue": "1"
        }
      },
      "outputs": [],
      "source": [
        "cp = ModelCheckpoint('model_lstm/', save_best_only=True)\n",
        "model_lstm.compile(loss=MeanSquaredError(), optimizer=Adam(learning_rate=0.01), metrics=[RootMeanSquaredError()])"
      ]
    },
    {
      "cell_type": "code",
      "execution_count": null,
      "metadata": {
        "colab": {
          "base_uri": "https://localhost:8080/"
        },
        "id": "CWeSakSwYLtr",
        "notebookRunGroups": {
          "groupValue": "1"
        },
        "outputId": "5307480e-0540-44f3-f3fb-1a5ec0a3adef"
      },
      "outputs": [],
      "source": [
        "epochs = 10\n",
        "batchsize = 250\n",
        "\n",
        "model_lstm.fit(X_train, y_train, validation_data=(X_val, y_val), epochs=epochs, batch_size=batchsize, callbacks=[cp], verbose = 2, workers=-2, use_multiprocessing=True)"
      ]
    },
    {
      "cell_type": "code",
      "execution_count": null,
      "metadata": {
        "id": "vdaqGHG4YZkN",
        "notebookRunGroups": {
          "groupValue": "1"
        }
      },
      "outputs": [],
      "source": [
        "from tensorflow.keras.models import load_model\n",
        "model_lstm = load_model('model_lstm/')"
      ]
    },
    {
      "cell_type": "code",
      "execution_count": null,
      "metadata": {
        "colab": {
          "base_uri": "https://localhost:8080/",
          "height": 420
        },
        "id": "5O59Q8MTaRN7",
        "notebookRunGroups": {
          "groupValue": "1"
        },
        "outputId": "4e55d8f6-c9ad-4349-9da7-e937b5ade6ae"
      },
      "outputs": [],
      "source": [
        "test_pred_lstm = np.copy(X_test[0])\n",
        "\n",
        "for k in range(len(y_test)-window_size):\n",
        "    pred = model_lstm.predict(test_pred_lstm[np.newaxis, -window_size:])\n",
        "    test_pred_lstm = np.concatenate((test_pred_lstm, pred), axis = 0)\n",
        "    \n",
        "test_pred_lstm = postprocess(test_pred_lstm)"
      ]
    },
    {
      "cell_type": "code",
      "execution_count": null,
      "metadata": {
        "notebookRunGroups": {
          "groupValue": "1"
        }
      },
      "outputs": [],
      "source": [
        "import matplotlib.pyplot as plt\n",
        "\n",
        "%matplotlib inline\n",
        "\n",
        "# Create the data for the 3D plot\n",
        "x = np.arange(N)\n",
        "y = np.arange(te)\n",
        "x, y = np.meshgrid(x, y)\n",
        "z = postprocess(qs[tr: tr + te])-test_pred_lstm\n",
        "\n",
        "# Create a figure and axes\n",
        "fig = plt.figure(figsize=(8, 6))\n",
        "ax = fig.add_subplot(111, projection='3d')\n",
        "\n",
        "# Plot the 3D surface\n",
        "ax.plot_surface(x, y, z, cmap='plasma')\n",
        "\n",
        "# Set labels and title\n",
        "ax.set_xlabel('X')\n",
        "ax.set_ylabel('Y')\n",
        "ax.set_zlabel('Z')\n",
        "ax.set_title(\"lstm\")\n",
        "\n",
        "# Rotate the plot\n",
        "ax.view_init(elev=40, azim=65)\n",
        "\n",
        "# Show the plot\n",
        "plt.show()\n"
      ]
    },
    {
      "cell_type": "code",
      "execution_count": null,
      "metadata": {
        "notebookRunGroups": {
          "groupValue": "1"
        }
      },
      "outputs": [],
      "source": [
        "for particles in range(N):\n",
        "    plt.plot(np.arange(tr, tr+te), postprocess(qs[tr: tr + te, particles]), color=\"tab:blue\")\n",
        "    plt.plot(np.arange(tr, tr+te), test_pred_lstm[:, particles], color=\"tab:orange\")\n",
        "\n",
        "    # Set labels and title\n",
        "    plt.xlabel('X')\n",
        "    plt.ylabel('Y')\n",
        "    plt.title(\"lstm\")\n",
        "    plt.ylim(-1, 1)\n",
        "\n",
        "    # Show the plot\n",
        "    plt.show()"
      ]
    },
    {
      "attachments": {},
      "cell_type": "markdown",
      "metadata": {},
      "source": [
        "# CNN"
      ]
    },
    {
      "cell_type": "code",
      "execution_count": null,
      "metadata": {
        "colab": {
          "base_uri": "https://localhost:8080/"
        },
        "id": "K6KDLXc3dg3x",
        "notebookRunGroups": {
          "groupValue": "2"
        },
        "outputId": "eaddf43a-5f36-46ef-8e95-6a0870ae8b4f"
      },
      "outputs": [],
      "source": [
        "model_cnn = Sequential()\n",
        "model_cnn.add(InputLayer((window_size, N)))\n",
        "model_cnn.add(Conv1D(64, kernel_size=2))\n",
        "model_cnn.add(Flatten())\n",
        "model_cnn.add(Dense(8, 'relu'))\n",
        "model_cnn.add(Dense(N, 'linear'))\n",
        "\n",
        "model_cnn.summary()"
      ]
    },
    {
      "cell_type": "code",
      "execution_count": null,
      "metadata": {
        "id": "YoGw3DQeeTES",
        "notebookRunGroups": {
          "groupValue": "2"
        }
      },
      "outputs": [],
      "source": [
        "cp2 = ModelCheckpoint('model_cnn/', save_best_only=True)\n",
        "model_cnn.compile(loss=MeanSquaredError(), optimizer=Adam(learning_rate=0.001), metrics=[RootMeanSquaredError()])"
      ]
    },
    {
      "cell_type": "code",
      "execution_count": null,
      "metadata": {
        "colab": {
          "base_uri": "https://localhost:8080/"
        },
        "id": "fUe56iajetZe",
        "outputId": "db7d44ec-e162-4e66-a3ba-1162c04fde63"
      },
      "outputs": [],
      "source": [
        "epochs=20\n",
        "batchsize=16\n",
        "\n",
        "# model_cnn.fit(X_train, y_train, validation_data=(X_val, y_val), epochs=epochs, batch_size=batchsize, callbacks=[cp2], verbose = 2, use_multiprocessing=True)"
      ]
    },
    {
      "cell_type": "code",
      "execution_count": null,
      "metadata": {},
      "outputs": [],
      "source": [
        "test_pred_cnn = np.copy(X_test[0])\n",
        "\n",
        "for k in range(len(y_test)-window_size):\n",
        "    pred = model_cnn.predict(test_pred_cnn[np.newaxis, -window_size:])\n",
        "    test_pred_cnn = np.concatenate((test_pred_cnn, pred), axis = 0)\n",
        "    \n",
        "test_pred_cnn = postprocess(test_pred_cnn)"
      ]
    },
    {
      "cell_type": "code",
      "execution_count": null,
      "metadata": {},
      "outputs": [],
      "source": [
        "%matplotlib inline\n",
        "\n",
        "# Create the data for the 3D plot\n",
        "x = np.arange(N)\n",
        "y = np.arange(te)\n",
        "X, Y = np.meshgrid(x, y)\n",
        "Z = postprocess(qs[tr: tr + te]) - test_pred_cnn\n",
        "\n",
        "# Create a figure and axes\n",
        "fig = plt.figure(figsize=(8, 6))\n",
        "ax = fig.add_subplot(111, projection='3d')\n",
        "\n",
        "# Plot the 3D surface\n",
        "ax.plot_surface(X, Y, Z, cmap='plasma')\n",
        "\n",
        "# Set labels and title\n",
        "ax.set_xlabel('X')\n",
        "ax.set_ylabel('Y')\n",
        "ax.set_zlabel('Z')\n",
        "ax.set_title(\"cnn\")\n",
        "\n",
        "# Rotate the plot\n",
        "ax.view_init(elev=40, azim=65)\n",
        "\n",
        "# Show the plot\n",
        "plt.show()\n"
      ]
    },
    {
      "cell_type": "code",
      "execution_count": null,
      "metadata": {},
      "outputs": [],
      "source": [
        "for particles in range(N):\n",
        "    plt.plot(range(te), postprocess(qs[tr: tr + te, particles]))\n",
        "    plt.plot(range(te), test_pred_cnn[:, particles])\n",
        "\n",
        "    # Set labels and title\n",
        "    plt.xlabel('X')\n",
        "    plt.ylabel('Y')\n",
        "    plt.title(\"lstm\")\n",
        "\n",
        "    # Show the plot\n",
        "    plt.show()"
      ]
    },
    {
      "attachments": {},
      "cell_type": "markdown",
      "metadata": {},
      "source": [
        "# GRU"
      ]
    },
    {
      "cell_type": "code",
      "execution_count": null,
      "metadata": {
        "colab": {
          "base_uri": "https://localhost:8080/"
        },
        "id": "_0mmRGP8exPo",
        "outputId": "6851ddb2-a5b5-405b-c3fe-68c4233c7df2",
        "tags": [
          "Group 3"
        ]
      },
      "outputs": [],
      "source": [
        "model_gru = Sequential()\n",
        "model_gru.add(InputLayer((window_size, N)))\n",
        "model_gru.add(GRU(64))\n",
        "model_gru.add(Dense(8, 'relu'))\n",
        "model_gru.add(Dense(N, 'linear'))\n",
        "model_gru.summary()"
      ]
    },
    {
      "cell_type": "code",
      "execution_count": null,
      "metadata": {
        "id": "WbQzFWjXfa2i"
      },
      "outputs": [],
      "source": [
        "cp3 = ModelCheckpoint('model_gru/', save_best_only=True)\n",
        "model_gru.compile(loss=MeanSquaredError(), optimizer=Adam(learning_rate=0.001), metrics=[RootMeanSquaredError()])"
      ]
    },
    {
      "cell_type": "code",
      "execution_count": null,
      "metadata": {
        "colab": {
          "base_uri": "https://localhost:8080/"
        },
        "id": "BzB6BUOQfivn",
        "outputId": "1f282be0-2d44-46a9-be3f-c448b98daf81"
      },
      "outputs": [],
      "source": [
        "epochs=20\n",
        "batchsize=16\n",
        "\n",
        "model_gru.fit(X_train, y_train, validation_data=(X_val, y_val), epochs=epochs, batch_size=batchsize, callbacks=[cp3], verbose = 2, workers=7, use_multiprocessing=True)"
      ]
    },
    {
      "cell_type": "code",
      "execution_count": null,
      "metadata": {},
      "outputs": [],
      "source": [
        "test_pred_gru = np.copy(X_test[0])\n",
        "\n",
        "for k in range(len(y_test)-window_size):\n",
        "    pred = model_gru.predict(test_pred_gru[np.newaxis, -window_size:])\n",
        "    test_pred_gru = np.concatenate((test_pred_gru, pred), axis = 0)\n",
        "    \n",
        "test_pred_gru = postprocess(test_pred_gru)"
      ]
    },
    {
      "cell_type": "code",
      "execution_count": null,
      "metadata": {},
      "outputs": [],
      "source": [
        "%matplotlib inline\n",
        "\n",
        "# Create the data for the 3D plot\n",
        "x = np.arange(N)\n",
        "y = np.arange(te)\n",
        "X, Y = np.meshgrid(x, y)\n",
        "Z = postprocess(qs[tr: tr + te]) - test_pred_gru\n",
        "\n",
        "# Create a figure and axes\n",
        "fig = plt.figure(figsize=(8, 6))\n",
        "ax = fig.add_subplot(111, projection='3d')\n",
        "\n",
        "# Plot the 3D surface\n",
        "ax.plot_surface(X, Y, Z, cmap='plasma')\n",
        "\n",
        "# Set labels and title\n",
        "ax.set_xlabel('X')\n",
        "ax.set_ylabel('Y')\n",
        "ax.set_zlabel('Z')\n",
        "ax.set_title(\"gru\")\n",
        "\n",
        "# Rotate the plot\n",
        "ax.view_init(elev=40, azim=65)\n",
        "\n",
        "# Show the plot\n",
        "plt.show()\n"
      ]
    },
    {
      "cell_type": "code",
      "execution_count": null,
      "metadata": {},
      "outputs": [],
      "source": [
        "for particles in range(N):\n",
        "    plt.plot(range(te), postprocess(qs[tr: tr + te, particles]))\n",
        "    plt.plot(range(te), test_pred_gru[:, particles])\n",
        "\n",
        "    # Set labels and title\n",
        "    plt.xlabel('X')\n",
        "    plt.ylabel('Y')\n",
        "    plt.title(\"lstm\")\n",
        "\n",
        "    # Show the plot\n",
        "    plt.show()\n"
      ]
    }
  ],
  "metadata": {
    "colab": {
      "provenance": []
    },
    "kernelspec": {
      "display_name": "Python 3",
      "name": "python3"
    },
    "language_info": {
      "codemirror_mode": {
        "name": "ipython",
        "version": 3
      },
      "file_extension": ".py",
      "mimetype": "text/x-python",
      "name": "python",
      "nbconvert_exporter": "python",
      "pygments_lexer": "ipython3",
      "version": "3.8.2"
    }
  },
  "nbformat": 4,
  "nbformat_minor": 0
}
