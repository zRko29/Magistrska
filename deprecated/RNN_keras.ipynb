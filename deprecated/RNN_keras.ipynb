{
  "cells": [
    {
      "cell_type": "code",
      "execution_count": 1,
      "metadata": {
        "notebookRunGroups": {
          "groupValue": "1"
        }
      },
      "outputs": [],
      "source": [
        "import yaml\n",
        "\n",
        "with open('config.yaml', 'r') as file:\n",
        "    config = yaml.safe_load(file)\n",
        "\n",
        "N = config[\"rnn\"][\"simulation\"][\"N\"]\n",
        "timesteps = config[\"rnn\"][\"simulation\"][\"timesteps\"]\n",
        "dt = config[\"rnn\"][\"simulation\"][\"dt\"]\n",
        "alpha = config[\"rnn\"][\"simulation\"][\"alpha\"]\n",
        "beta = config[\"rnn\"][\"simulation\"][\"beta\"]\n",
        "\n",
        "hidden_units_per_layer = config[\"rnn\"][\"model\"][\"hidden_units_per_layer\"]\n",
        "window_size = config[\"rnn\"][\"model\"][\"window_size\"]\n",
        "num_layers = config[\"rnn\"][\"model\"][\"num_layers\"]\n",
        "step_size = config[\"rnn\"][\"model\"][\"step_size\"]\n",
        "dropout = config[\"rnn\"][\"model\"][\"dropout\"]\n",
        "train_size = config[\"rnn\"][\"model\"][\"train_size\"]\n",
        "val_size = config[\"rnn\"][\"model\"][\"val_size\"]\n",
        "test_size = config[\"rnn\"][\"model\"][\"test_size\"]\n",
        "seed = config[\"rnn\"][\"model\"][\"seed\"]\n",
        "\n",
        "epochs = config[\"rnn\"][\"training\"][\"epochs\"]\n",
        "batch_size = config[\"rnn\"][\"training\"][\"batch_size\"]\n",
        "loss = config[\"rnn\"][\"training\"][\"loss\"]\n",
        "learning_rate = config[\"rnn\"][\"training\"][\"learning_rate\"]"
      ]
    },
    {
      "cell_type": "code",
      "execution_count": 2,
      "metadata": {
        "id": "XSBlH-9MaaGs",
        "notebookRunGroups": {
          "groupValue": "1"
        }
      },
      "outputs": [
        {
          "name": "stdout",
          "output_type": "stream",
          "text": [
            "Found some saved data, skipping simulation.\n"
          ]
        }
      ],
      "source": [
        "# Create an instance of the Simulation class\n",
        "import numpy as np\n",
        "np.random.seed(seed)\n",
        "import functions\n",
        "import os\n",
        "\n",
        "# Specify the folder path\n",
        "folder_path = r\"D:/School/Magistrska/data\"\n",
        "\n",
        "q_i = np.sin(np.linspace(0, np.pi*2, N))\n",
        "p_i = np.zeros(N)\n",
        "\n",
        "sim = functions.Simulation(q_i, p_i, N, timesteps, dt)\n",
        "\n",
        "# Check if the folder is empty\n",
        "if len(os.listdir(folder_path)) == 0:\n",
        "    print(\"No saved data, running simulation.\")\n",
        "\n",
        "    qs, ps = sim.integrate(alpha, beta)\n",
        "    \n",
        "else:\n",
        "    print(\"Found some saved data, skipping simulation.\")\n",
        "    \n",
        "    qs = np.load(folder_path + \"\\data_qs_3.npy\")\n",
        "    ps = np.load(folder_path + \"\\data_ps_3.npy\")\n",
        "    \n",
        "qs = qs[:, 1:-1]\n",
        "ps = ps[:, 1:-1]"
      ]
    },
    {
      "cell_type": "code",
      "execution_count": 3,
      "metadata": {
        "notebookRunGroups": {
          "groupValue": "1"
        }
      },
      "outputs": [],
      "source": [
        "from keras.models import Sequential\n",
        "from keras.layers import InputLayer, Dropout, Dense, GRU, SimpleRNN\n",
        "from keras.optimizers import Adam\n",
        "from keras import initializers"
      ]
    },
    {
      "cell_type": "code",
      "execution_count": 4,
      "metadata": {
        "id": "Vsy2-BjnWMhB",
        "notebookRunGroups": {
          "groupValue": ""
        }
      },
      "outputs": [],
      "source": [
        "ml = functions.MachineLearning(qs, ps, window_size,step_size, train_size, val_size, test_size)\n",
        "\n",
        "X, y = ml.make_sequences()\n",
        "\n",
        "X_train, X_test, X_val, y_train, y_test, y_val = ml.make_split()\n",
        "\n",
        "X_train = np.array(X_train)\n",
        "X_test = np.array(X_test)\n",
        "X_val = np.array(X_val)\n",
        "y_train = np.array(y_train)\n",
        "y_test = np.array(y_test)\n",
        "y_val = np.array(y_val)"
      ]
    },
    {
      "cell_type": "code",
      "execution_count": 5,
      "metadata": {
        "colab": {
          "base_uri": "https://localhost:8080/"
        },
        "id": "4jZz4ZjpW217",
        "notebookRunGroups": {
          "groupValue": ""
        },
        "outputId": "bf6953f2-06d7-42ba-9db7-d2393e94110b"
      },
      "outputs": [
        {
          "name": "stdout",
          "output_type": "stream",
          "text": [
            "Model: \"sequential\"\n",
            "_________________________________________________________________\n",
            " Layer (type)                Output Shape              Param #   \n",
            "=================================================================\n",
            " simple_rnn (SimpleRNN)      (None, 50)                2850      \n",
            "                                                                 \n",
            " dense (Dense)               (None, 6)                 306       \n",
            "                                                                 \n",
            "=================================================================\n",
            "Total params: 3,156\n",
            "Trainable params: 3,156\n",
            "Non-trainable params: 0\n",
            "_________________________________________________________________\n"
          ]
        }
      ],
      "source": [
        "model = Sequential()\n",
        "model.add(InputLayer((window_size, N-2)))\n",
        "\n",
        "for layer in range(num_layers - 1):\n",
        "    model.add(SimpleRNN(hidden_units_per_layer, return_sequences=True, dropout=dropout))\n",
        "\n",
        "model.add(SimpleRNN(hidden_units_per_layer, dropout=dropout))\n",
        "model.add(Dense(N-2))\n",
        "\n",
        "model.summary()\n",
        "\n",
        "# model.layers[0].get_weights()[0][0]"
      ]
    },
    {
      "cell_type": "code",
      "execution_count": 6,
      "metadata": {
        "id": "5jMK7auDXwEr"
      },
      "outputs": [],
      "source": [
        "optimizer = Adam(learning_rate)\n",
        "model.compile(loss=loss, optimizer=optimizer)"
      ]
    },
    {
      "cell_type": "code",
      "execution_count": 7,
      "metadata": {
        "colab": {
          "base_uri": "https://localhost:8080/"
        },
        "id": "CWeSakSwYLtr",
        "outputId": "17c3026a-3629-42e8-8ec7-628c47ab9929"
      },
      "outputs": [
        {
          "name": "stdout",
          "output_type": "stream",
          "text": [
            "Epoch 1/30\n",
            "3000/3000 - 19s - loss: 0.0480 - val_loss: 0.0686 - 19s/epoch - 6ms/step\n",
            "Epoch 2/30\n",
            "3000/3000 - 17s - loss: 0.0420 - val_loss: 0.0165 - 17s/epoch - 6ms/step\n",
            "Epoch 3/30\n",
            "3000/3000 - 17s - loss: 0.0483 - val_loss: 0.0256 - 17s/epoch - 6ms/step\n",
            "Epoch 4/30\n",
            "3000/3000 - 17s - loss: 0.0543 - val_loss: 0.0263 - 17s/epoch - 6ms/step\n",
            "Epoch 5/30\n",
            "3000/3000 - 17s - loss: 0.0604 - val_loss: 0.0485 - 17s/epoch - 6ms/step\n",
            "Epoch 6/30\n",
            "3000/3000 - 20s - loss: 0.0637 - val_loss: 0.0421 - 20s/epoch - 7ms/step\n",
            "Epoch 7/30\n",
            "3000/3000 - 18s - loss: 0.0664 - val_loss: 0.0537 - 18s/epoch - 6ms/step\n",
            "Epoch 8/30\n",
            "3000/3000 - 18s - loss: 0.0765 - val_loss: 0.0589 - 18s/epoch - 6ms/step\n",
            "Epoch 9/30\n",
            "3000/3000 - 18s - loss: 0.1125 - val_loss: 0.0939 - 18s/epoch - 6ms/step\n",
            "Epoch 10/30\n",
            "3000/3000 - 18s - loss: 0.0626 - val_loss: 0.0624 - 18s/epoch - 6ms/step\n",
            "Epoch 11/30\n",
            "3000/3000 - 18s - loss: 0.0922 - val_loss: 0.0757 - 18s/epoch - 6ms/step\n",
            "Epoch 12/30\n",
            "3000/3000 - 17s - loss: 0.1022 - val_loss: 0.0908 - 17s/epoch - 6ms/step\n",
            "Epoch 13/30\n",
            "3000/3000 - 17s - loss: 0.1145 - val_loss: 0.0662 - 17s/epoch - 6ms/step\n",
            "Epoch 14/30\n",
            "3000/3000 - 17s - loss: 0.1095 - val_loss: 0.0782 - 17s/epoch - 6ms/step\n",
            "Epoch 15/30\n",
            "3000/3000 - 18s - loss: 0.1000 - val_loss: 0.0997 - 18s/epoch - 6ms/step\n",
            "Epoch 16/30\n",
            "3000/3000 - 17s - loss: 0.1016 - val_loss: 0.0841 - 17s/epoch - 6ms/step\n",
            "Epoch 17/30\n",
            "3000/3000 - 17s - loss: 0.1146 - val_loss: 0.0522 - 17s/epoch - 6ms/step\n",
            "Epoch 18/30\n",
            "3000/3000 - 18s - loss: 0.0878 - val_loss: 0.0970 - 18s/epoch - 6ms/step\n",
            "Epoch 19/30\n",
            "3000/3000 - 19s - loss: 0.1135 - val_loss: 0.0843 - 19s/epoch - 6ms/step\n",
            "Epoch 20/30\n",
            "3000/3000 - 18s - loss: 0.1257 - val_loss: 0.1473 - 18s/epoch - 6ms/step\n",
            "Epoch 21/30\n",
            "3000/3000 - 18s - loss: 0.1365 - val_loss: 0.1127 - 18s/epoch - 6ms/step\n",
            "Epoch 22/30\n",
            "3000/3000 - 18s - loss: 0.1454 - val_loss: 0.1154 - 18s/epoch - 6ms/step\n",
            "Epoch 23/30\n",
            "3000/3000 - 18s - loss: 0.1370 - val_loss: 0.1155 - 18s/epoch - 6ms/step\n",
            "Epoch 24/30\n",
            "3000/3000 - 18s - loss: 0.1531 - val_loss: 0.1565 - 18s/epoch - 6ms/step\n",
            "Epoch 25/30\n",
            "3000/3000 - 18s - loss: 0.1559 - val_loss: 0.1731 - 18s/epoch - 6ms/step\n",
            "Epoch 26/30\n",
            "3000/3000 - 18s - loss: 0.3104 - val_loss: 0.3638 - 18s/epoch - 6ms/step\n",
            "Epoch 27/30\n",
            "3000/3000 - 18s - loss: 0.2480 - val_loss: 0.1373 - 18s/epoch - 6ms/step\n",
            "Epoch 28/30\n",
            "3000/3000 - 18s - loss: 0.1417 - val_loss: 0.0844 - 18s/epoch - 6ms/step\n",
            "Epoch 29/30\n",
            "3000/3000 - 18s - loss: 0.1020 - val_loss: 0.0928 - 18s/epoch - 6ms/step\n",
            "Epoch 30/30\n",
            "3000/3000 - 18s - loss: 0.1318 - val_loss: 0.1238 - 18s/epoch - 6ms/step\n"
          ]
        }
      ],
      "source": [
        "import absl.logging\n",
        "absl.logging.set_verbosity(absl.logging.ERROR)\n",
        "import os\n",
        "os.environ['TF_CPP_MIN_LOG_LEVEL'] = '2'\n",
        "\n",
        "history = model.fit(X_train, y_train, validation_data=(X_val, y_val), epochs=epochs, batch_size=batch_size, verbose = 2, shuffle=False)"
      ]
    },
    {
      "cell_type": "code",
      "execution_count": 8,
      "metadata": {
        "colab": {
          "base_uri": "https://localhost:8080/",
          "height": 434
        },
        "id": "KEp1TlDsHFiT",
        "outputId": "71e335a0-115c-47ac-9398-7b74c7d544ec"
      },
      "outputs": [
        {
          "data": {
            "image/png": "[encoded data removed]",
            "text/plain": [
              "<Figure size 640x480 with 1 Axes>"
            ]
          },
          "metadata": {},
          "output_type": "display_data"
        }
      ],
      "source": [
        "import matplotlib.pyplot as plt\n",
        "\n",
        "plt.plot(history.history[\"loss\"], label=\"loss\")\n",
        "plt.plot(history.history[\"val_loss\"], label=\"val_loss\")\n",
        "plt.legend()\n",
        "plt.show()"
      ]
    },
    {
      "cell_type": "code",
      "execution_count": 12,
      "metadata": {
        "notebookRunGroups": {
          "groupValue": "1"
        }
      },
      "outputs": [
        {
          "ename": "OSError",
          "evalue": "No file or directory found at D:/School/Magistrska/best_model_RNN/gridsearch_1.h5",
          "output_type": "error",
          "traceback": [
            "\u001b[1;31m---------------------------------------------------------------------------\u001b[0m",
            "\u001b[1;31mOSError\u001b[0m                                   Traceback (most recent call last)",
            "Cell \u001b[1;32mIn[12], line 6\u001b[0m\n\u001b[0;32m      2\u001b[0m \u001b[39mimport\u001b[39;00m \u001b[39mkeras\u001b[39;00m\n\u001b[0;32m      4\u001b[0m \u001b[39m# model.save(r'D:/School/Magistrska/best_model_RNN/my_model_1s.h5')\u001b[39;00m\n\u001b[1;32m----> 6\u001b[0m model \u001b[39m=\u001b[39m keras\u001b[39m.\u001b[39;49mmodels\u001b[39m.\u001b[39;49mload_model(\u001b[39mr\u001b[39;49m\u001b[39m\"\u001b[39;49m\u001b[39mD:/School/Magistrska/best_model_RNN/gridsearch_1.h5\u001b[39;49m\u001b[39m\"\u001b[39;49m)\n\u001b[0;32m      7\u001b[0m model\u001b[39m.\u001b[39msummary()\n\u001b[0;32m      9\u001b[0m \u001b[39mwith\u001b[39;00m \u001b[39mopen\u001b[39m(\u001b[39mr\u001b[39m\u001b[39m\"\u001b[39m\u001b[39mD:/School/Magistrska/best_model_RNN/best_params_1.json\u001b[39m\u001b[39m\"\u001b[39m, \u001b[39m'\u001b[39m\u001b[39mr\u001b[39m\u001b[39m'\u001b[39m) \u001b[39mas\u001b[39;00m config_file:\n",
            "File \u001b[1;32mc:\\Users\\Grand\\anaconda3\\envs\\Magistrska_3.10\\lib\\site-packages\\keras\\utils\\traceback_utils.py:70\u001b[0m, in \u001b[0;36mfilter_traceback.<locals>.error_handler\u001b[1;34m(*args, **kwargs)\u001b[0m\n\u001b[0;32m     67\u001b[0m     filtered_tb \u001b[39m=\u001b[39m _process_traceback_frames(e\u001b[39m.\u001b[39m__traceback__)\n\u001b[0;32m     68\u001b[0m     \u001b[39m# To get the full stack trace, call:\u001b[39;00m\n\u001b[0;32m     69\u001b[0m     \u001b[39m# `tf.debugging.disable_traceback_filtering()`\u001b[39;00m\n\u001b[1;32m---> 70\u001b[0m     \u001b[39mraise\u001b[39;00m e\u001b[39m.\u001b[39mwith_traceback(filtered_tb) \u001b[39mfrom\u001b[39;00m \u001b[39mNone\u001b[39;00m\n\u001b[0;32m     71\u001b[0m \u001b[39mfinally\u001b[39;00m:\n\u001b[0;32m     72\u001b[0m     \u001b[39mdel\u001b[39;00m filtered_tb\n",
            "File \u001b[1;32mc:\\Users\\Grand\\anaconda3\\envs\\Magistrska_3.10\\lib\\site-packages\\keras\\saving\\save.py:226\u001b[0m, in \u001b[0;36mload_model\u001b[1;34m(filepath, custom_objects, compile, options)\u001b[0m\n\u001b[0;32m    224\u001b[0m \u001b[39mif\u001b[39;00m \u001b[39misinstance\u001b[39m(filepath_str, \u001b[39mstr\u001b[39m):\n\u001b[0;32m    225\u001b[0m     \u001b[39mif\u001b[39;00m \u001b[39mnot\u001b[39;00m tf\u001b[39m.\u001b[39mio\u001b[39m.\u001b[39mgfile\u001b[39m.\u001b[39mexists(filepath_str):\n\u001b[1;32m--> 226\u001b[0m         \u001b[39mraise\u001b[39;00m \u001b[39mIOError\u001b[39;00m(\n\u001b[0;32m    227\u001b[0m             \u001b[39mf\u001b[39m\u001b[39m\"\u001b[39m\u001b[39mNo file or directory found at \u001b[39m\u001b[39m{\u001b[39;00mfilepath_str\u001b[39m}\u001b[39;00m\u001b[39m\"\u001b[39m\n\u001b[0;32m    228\u001b[0m         )\n\u001b[0;32m    230\u001b[0m     \u001b[39mif\u001b[39;00m tf\u001b[39m.\u001b[39mio\u001b[39m.\u001b[39mgfile\u001b[39m.\u001b[39misdir(filepath_str):\n\u001b[0;32m    231\u001b[0m         \u001b[39mreturn\u001b[39;00m saved_model_load\u001b[39m.\u001b[39mload(\n\u001b[0;32m    232\u001b[0m             filepath_str, \u001b[39mcompile\u001b[39m, options\n\u001b[0;32m    233\u001b[0m         )\n",
            "\u001b[1;31mOSError\u001b[0m: No file or directory found at D:/School/Magistrska/best_model_RNN/gridsearch_1.h5"
          ]
        }
      ],
      "source": [
        "import json\n",
        "import keras\n",
        "\n",
        "# model.save(r'D:/School/Magistrska/best_model_RNN/my_model_1s.h5')\n",
        "\n",
        "# model = keras.models.load_model(r\"D:/School/Magistrska/best_model_RNN/gridsearch_1.h5\")\n",
        "# model.summary()\n",
        "    \n",
        "# with open(r\"D:/School/Magistrska/best_model_RNN/best_params_1.json\", 'r') as config_file:\n",
        "#     best_params = json.load(config_file)"
      ]
    },
    {
      "cell_type": "code",
      "execution_count": 17,
      "metadata": {
        "notebookRunGroups": {
          "groupValue": "1"
        }
      },
      "outputs": [],
      "source": [
        "ml_2 = functions.MachineLearning(qs, ps, window_size, step_size, train_size, val_size, test_size)\n",
        "\n",
        "X, y = ml_2.make_sequences()\n",
        "\n",
        "X_train, X_test, X_val, y_train, y_test, y_val = ml_2.make_split()"
      ]
    },
    {
      "cell_type": "code",
      "execution_count": 18,
      "metadata": {
        "id": "5O59Q8MTaRN7",
        "notebookRunGroups": {
          "groupValue": "1"
        }
      },
      "outputs": [
        {
          "name": "stderr",
          "output_type": "stream",
          "text": [
            "Exception ignored in: <function WeakKeyDictionary.__init__.<locals>.remove at 0x0000024B9CDC7B50>\n",
            "Traceback (most recent call last):\n",
            "  File \"c:\\Users\\Grand\\anaconda3\\envs\\Magistrska_3.10\\lib\\weakref.py\", line 371, in remove\n",
            "    self = selfref()\n",
            "KeyboardInterrupt: \n"
          ]
        }
      ],
      "source": [
        "test_pred = np.copy(X_test[0])\n",
        "\n",
        "for k in range(len(X_test)):\n",
        "    pred = model.predict(test_pred[np.newaxis, -window_size:], verbose=0)\n",
        "    test_pred = np.concatenate((test_pred, pred), axis = 0)\n",
        "    \n",
        "test_pred = test_pred[window_size:]"
      ]
    },
    {
      "cell_type": "code",
      "execution_count": null,
      "metadata": {
        "notebookRunGroups": {
          "groupValue": "1"
        }
      },
      "outputs": [],
      "source": [
        "from sklearn.metrics import mean_squared_error\n",
        "\n",
        "mse = mean_squared_error(functions.MachineLearning.postprocess(y_test), functions.MachineLearning.postprocess(test_pred))\n",
        "print(\"MSE = \", mse)"
      ]
    },
    {
      "cell_type": "code",
      "execution_count": null,
      "metadata": {
        "colab": {
          "base_uri": "https://localhost:8080/",
          "height": 1000
        },
        "id": "Nq8Tym3twBk8",
        "notebookRunGroups": {
          "groupValue": "1"
        },
        "outputId": "d97a35eb-2495-4a33-96a8-28ed8ad3e322"
      },
      "outputs": [],
      "source": [
        "import matplotlib.pyplot as plt\n",
        "\n",
        "for particles in range(N-2):\n",
        "    plt.plot(functions.MachineLearning.postprocess(y_test)[:, particles], color=\"tab:blue\")\n",
        "    plt.plot(functions.MachineLearning.postprocess(test_pred)[:, particles], color=\"tab:orange\")\n",
        "\n",
        "    # Set labels and title\n",
        "    plt.xlabel('X')\n",
        "    plt.ylabel('Y')\n",
        "    # plt.ylim(-1.2, 1.2)\n",
        "\n",
        "    # Show the plot\n",
        "    plt.show()"
      ]
    }
  ],
  "metadata": {
    "colab": {
      "provenance": []
    },
    "kernelspec": {
      "display_name": "Python 3",
      "name": "python3"
    },
    "language_info": {
      "codemirror_mode": {
        "name": "ipython",
        "version": 3
      },
      "file_extension": ".py",
      "mimetype": "text/x-python",
      "name": "python",
      "nbconvert_exporter": "python",
      "pygments_lexer": "ipython3",
      "version": "3.10.12"
    }
  },
  "nbformat": 4,
  "nbformat_minor": 0
}
